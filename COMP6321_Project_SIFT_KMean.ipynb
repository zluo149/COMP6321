{
 "cells": [
  {
   "cell_type": "code",
   "execution_count": 1,
   "id": "09184e55",
   "metadata": {},
   "outputs": [],
   "source": [
    "import os\n",
    "import cv2\n",
    "import numpy as np\n",
    "import time\n",
    "import matplotlib.pyplot as plt\n",
    "from sklearn.svm import SVC\n",
    "from sklearn.neighbors import KNeighborsClassifier\n",
    "from sklearn.neighbors import NearestNeighbors\n",
    "from sklearn.model_selection import train_test_split\n",
    "from sklearn.metrics import accuracy_score, confusion_matrix"
   ]
  },
  {
   "cell_type": "code",
   "execution_count": 2,
   "id": "b2b3a0a0",
   "metadata": {},
   "outputs": [],
   "source": [
    "path = './10-Scene/'\n",
    "image_path = []\n",
    "for i in range(10):\n",
    "    dir = os.path.join(path, str(i))\n",
    "    for file in os.listdir(dir):\n",
    "        image_path.append(os.path.join(dir, file))"
   ]
  },
  {
   "cell_type": "code",
   "execution_count": 3,
   "id": "13e7b1e5",
   "metadata": {},
   "outputs": [],
   "source": [
    "def bag_of_features(features, centres, k=500):\n",
    "    vec = np.zeros((1, k))\n",
    "    for i in range(features.shape[0]):\n",
    "        feat = features[i]\n",
    "        diff = np.tile(feat, (k, 1)) - centres\n",
    "        dist = pow(((pow(diff, 2)).sum(axis = 1)), 0.5)\n",
    "        idx_dist = dist.argsort()\n",
    "        idx = idx_dist[0]\n",
    "        vec[0][idx] += 1\n",
    "    return vec"
   ]
  },
  {
   "cell_type": "code",
   "execution_count": 4,
   "id": "e30ec996",
   "metadata": {},
   "outputs": [],
   "source": [
    "def CalcFeatures(img):\n",
    "        sift = cv2.SIFT_create()   \n",
    "        kp, des = sift.detectAndCompute(img, None)\n",
    "        return des"
   ]
  },
  {
   "cell_type": "code",
   "execution_count": 5,
   "id": "82961166",
   "metadata": {},
   "outputs": [],
   "source": [
    "def SIFT_Kmean(k):\n",
    "\n",
    "    features = []\n",
    "    for file in image_path:\n",
    "        img = cv2.imread(file, 0)\n",
    "        img_des = CalcFeatures(img)\n",
    "        if img_des is not None:\n",
    "            features.append(img_des)\n",
    "    features = np.vstack(features)\n",
    "\n",
    "    criteria = (cv2.TERM_CRITERIA_EPS + cv2.TERM_CRITERIA_MAX_ITER, 10, 0.1)\n",
    "    flags = cv2.KMEANS_RANDOM_CENTERS\n",
    "    compactness, labels, centres = cv2.kmeans(features, k, None, criteria, 10, flags) #Kmean的参数也可调\n",
    "\n",
    "    labels = []\n",
    "    vec = []\n",
    "    for file in image_path:\n",
    "        img = cv2.imread(file, 0)\n",
    "        img_des = CalcFeatures(img)\n",
    "        if img_des is not None:\n",
    "            img_vec = bag_of_features(img_des, centres, k)\n",
    "            vec.append(img_vec)\n",
    "            temp = os.path.split(file)[0]\n",
    "            temp1 = os.path.split(temp)[1]\n",
    "            labels.append(int(temp1))\n",
    "    vec = np.vstack(vec)\n",
    "    \n",
    "    return vec, labels"
   ]
  },
  {
   "cell_type": "code",
   "execution_count": 6,
   "id": "63da5a94",
   "metadata": {},
   "outputs": [],
   "source": [
    "K = [100,200,300,400,500,600,700,800,900,1000] #100 - 1000\n",
    "for k in K:\n",
    "    image_vec, image_labels = SIFT_Kmean(k)\n",
    "    np.save('image_vec_'+str(k)+'.npy', image_vec)\n",
    "    np.save('image_label_'+str(k)+'.npy',image_labels)"
   ]
  },
  {
   "cell_type": "code",
   "execution_count": null,
   "id": "78fc1ca5",
   "metadata": {},
   "outputs": [],
   "source": []
  }
 ],
 "metadata": {
  "kernelspec": {
   "display_name": "Python 3 (ipykernel)",
   "language": "python",
   "name": "python3"
  },
  "language_info": {
   "codemirror_mode": {
    "name": "ipython",
    "version": 3
   },
   "file_extension": ".py",
   "mimetype": "text/x-python",
   "name": "python",
   "nbconvert_exporter": "python",
   "pygments_lexer": "ipython3",
   "version": "3.9.7"
  }
 },
 "nbformat": 4,
 "nbformat_minor": 5
}
